{
  "nbformat": 4,
  "nbformat_minor": 0,
  "metadata": {
    "colab": {
      "name": "bert_word_similarity.ipynb",
      "provenance": [],
      "collapsed_sections": []
    },
    "kernelspec": {
      "name": "python3",
      "display_name": "Python 3"
    },
    "language_info": {
      "name": "python"
    }
  },
  "cells": [
    {
      "cell_type": "code",
      "execution_count": null,
      "metadata": {
        "id": "7Fn9v9NYflHI"
      },
      "outputs": [],
      "source": [
        "!pip install spacy"
      ]
    },
    {
      "cell_type": "code",
      "source": [
        "import spacy\n",
        "import pandas as pd\n",
        "import numpy as np\n",
        "nlp = spacy.load('en_core_web_sm')\n",
        "\n",
        "df = pd.read_csv('sample.csv')"
      ],
      "metadata": {
        "id": "jQHwULgef1gL"
      },
      "execution_count": 106,
      "outputs": []
    },
    {
      "cell_type": "code",
      "source": [
        "clean_df = df.dropna()"
      ],
      "metadata": {
        "id": "cwqe6UYYgYJu"
      },
      "execution_count": 107,
      "outputs": []
    },
    {
      "cell_type": "code",
      "source": [
        "sentences=[]\n",
        "for i in clean_df['title_keyword']:\n",
        "   sentences.append(i.strip())\n",
        "sentences"
      ],
      "metadata": {
        "id": "Z5SNh8fTwn-U"
      },
      "execution_count": null,
      "outputs": []
    },
    {
      "cell_type": "code",
      "source": [
        "# text= ''\n",
        "# for i in clean_df['title_keyword']:\n",
        "#      text+=i+\" \"\n",
        "# text"
      ],
      "metadata": {
        "id": "38mSXK45gZTU"
      },
      "execution_count": null,
      "outputs": []
    },
    {
      "cell_type": "code",
      "source": [
        "# doc =nlp(text)\n",
        "# print(doc[25].is_stop,doc[25])"
      ],
      "metadata": {
        "colab": {
          "base_uri": "https://localhost:8080/"
        },
        "id": "M16BujMmg1VC",
        "outputId": "52bfca5d-d183-46dd-9d3c-3c0aad4b3942"
      },
      "execution_count": null,
      "outputs": [
        {
          "output_type": "stream",
          "name": "stdout",
          "text": [
            "True For\n"
          ]
        }
      ]
    },
    {
      "cell_type": "code",
      "source": [
        "# datas = []\n",
        "# for i in doc:\n",
        "#     if not i.is_space and i.is_alpha and not i.is_stop and i.text not in datas:\n",
        "#         datas.append(i.text)"
      ],
      "metadata": {
        "id": "dDlXg9BRg8Qq"
      },
      "execution_count": null,
      "outputs": []
    },
    {
      "cell_type": "code",
      "source": [
        "# datas"
      ],
      "metadata": {
        "id": "DgQkAXu9g-W7"
      },
      "execution_count": null,
      "outputs": []
    },
    {
      "cell_type": "code",
      "source": [
        "model_name = \"sentence-transformers/bert-base-nli-mean-tokens\""
      ],
      "metadata": {
        "id": "H2Cp0oH2g_ai"
      },
      "execution_count": null,
      "outputs": []
    },
    {
      "cell_type": "code",
      "source": [
        "!pip install -U scikit-learn sentence-transformers"
      ],
      "metadata": {
        "id": "H7JhuIyujH0P"
      },
      "execution_count": null,
      "outputs": []
    },
    {
      "cell_type": "code",
      "source": [
        "from sentence_transformers import SentenceTransformer\n",
        "from sklearn.metrics.pairwise import cosine_similarity\n",
        "import json\n",
        "import joblib"
      ],
      "metadata": {
        "id": "gG69CsxHjAar"
      },
      "execution_count": 112,
      "outputs": []
    },
    {
      "cell_type": "code",
      "source": [
        "model = SentenceTransformer(model_name)"
      ],
      "metadata": {
        "id": "NTRUDigCjFQx"
      },
      "execution_count": 109,
      "outputs": []
    },
    {
      "cell_type": "code",
      "source": [
        "sentence_vecs = model.encode(sentences) #model train"
      ],
      "metadata": {
        "id": "hHf12gSvjhmS"
      },
      "execution_count": 110,
      "outputs": []
    },
    {
      "cell_type": "code",
      "source": [
        "filename = 'finalized_model.sav'\n",
        "joblib.dump(sentence_vecs, filename) #saving the trained model for future use"
      ],
      "metadata": {
        "colab": {
          "base_uri": "https://localhost:8080/"
        },
        "id": "tLygKmmJzyUd",
        "outputId": "7d27ba6b-459e-412e-af97-c3d72afd2315"
      },
      "execution_count": 113,
      "outputs": [
        {
          "output_type": "execute_result",
          "data": {
            "text/plain": [
              "['finalized_model.sav']"
            ]
          },
          "metadata": {},
          "execution_count": 113
        }
      ]
    },
    {
      "cell_type": "code",
      "source": [
        "loaded_model = joblib.load(filename) #loading/getting the saved model for use"
      ],
      "metadata": {
        "id": "MhEIG2pg0ONg"
      },
      "execution_count": 115,
      "outputs": []
    },
    {
      "cell_type": "code",
      "source": [
        "def process(text_vecs):\n",
        "    sim =cosine_similarity(\n",
        "    [text_vecs],loaded_model[:]\n",
        "    )\n",
        "    return sim"
      ],
      "metadata": {
        "id": "r72cFOcCkJ5S"
      },
      "execution_count": 117,
      "outputs": []
    },
    {
      "cell_type": "code",
      "source": [
        "def sort_collect():\n",
        "    collect.sort(key=lambda x:x[-1],reverse=True)"
      ],
      "metadata": {
        "id": "BKLqoejJcJEK"
      },
      "execution_count": 118,
      "outputs": []
    },
    {
      "cell_type": "code",
      "source": [
        "\"\"\"\n",
        "Text input from user and process similarity check\n",
        "\"\"\"\n",
        "\n",
        "collect=[]\n",
        "text = str(input(\"Keyword: \"))\n",
        "text_vecs = model.encode(text)\n",
        "sim_pc =  process(text_vecs) \n",
        "print(len(sim_pc[0]))\n",
        "for i,j in enumerate(sim_pc[0]):\n",
        "  collect.append((sentences[i],j)) #data[i] for words,sentences[i] for sentences\n",
        "sort_collect()"
      ],
      "metadata": {
        "colab": {
          "base_uri": "https://localhost:8080/"
        },
        "id": "m_j1a5xFkRSi",
        "outputId": "691ff9a4-065c-4312-bfb7-fa55c7146e53"
      },
      "execution_count": 123,
      "outputs": [
        {
          "output_type": "stream",
          "name": "stdout",
          "text": [
            "Keyword: google\n",
            "16150\n"
          ]
        }
      ]
    },
    {
      "cell_type": "code",
      "source": [
        "len(collect[:100])"
      ],
      "metadata": {
        "id": "ixbvBNJYk2pN"
      },
      "execution_count": null,
      "outputs": []
    },
    {
      "cell_type": "code",
      "source": [
        "def create_json():\n",
        "  try:\n",
        "    dic_data={}\n",
        "    dic_data[text]=[item for item,pc in collect[:100]]\n",
        "    print(dic_data)\n",
        "    with open(str(text)+\".json\",\"w\",encoding=\"utf-8\") as file:\n",
        "      json.dump(dic_data,file,indent=0)\n",
        "      print(\"Json file generated!\")\n",
        "  except Exceptional as e:\n",
        "    print(\"error on create json-> \"+str(e))"
      ],
      "metadata": {
        "id": "aSLbpJjOba8Q"
      },
      "execution_count": 121,
      "outputs": []
    },
    {
      "cell_type": "code",
      "source": [
        "create_json()"
      ],
      "metadata": {
        "colab": {
          "base_uri": "https://localhost:8080/"
        },
        "id": "hVNAUckgcYpQ",
        "outputId": "3b256e10-3261-49dd-f150-d6f9de2d35d1"
      },
      "execution_count": 124,
      "outputs": [
        {
          "output_type": "stream",
          "name": "stdout",
          "text": [
            "{'google': ['Search Engine', 'Internet Literature', 'Cognitive Computing', 'Voip', 'Android Smartwatch', 'Android Cloud Phone', 'Internet Publishing', 'Online Recruitment', 'Internet Of Things Sensors', 'Virtual Commissioning', 'Online Survey Software', 'Internet Advertising', 'Digital Intelligence Platform', 'Online Books', 'Search Engine Advertising Services', 'Hr Chatbots', 'Online Graphic Design Solutions', 'Open Source Database', 'Website Builders', 'Online Education Technology', 'Online Advertising Platform', 'Smartphone Lens', 'Ultraprivate Smartphone', 'Smartphone Printers', 'Online Auction', 'Cloud Services', 'Online Recruitment Services', 'Voip Gateways', 'Internet Dating', 'Social Media Analytics', 'Maritime Internet Of Things', 'Human Internet Of Things', 'Cloud Computing', 'Web Hosting Services', 'Online Music', 'Smartphone Manufacturing Service', 'Online Help Desk', 'Digital Farming', '60Ghz Wi-Fi (Wigig)', 'Smartphone Back Glass', 'Wifi Mcu', 'Augmented Reality And Virtual Reality Platform', 'Online Shopping', 'Smartphones Sensor', 'Internet Hosting Service', 'Contact Center Analytics', 'Metaverse Software', 'Internet Radio', 'Ai Image Recognition', 'Mobile Voip', 'Digital Signage Solutions', 'Online Shopping (B2C)', 'Online Crm Tools', 'Digital Transformation', 'Online Lingerie', 'Iot Internet Service', 'Smartphone Cases And Cover', 'Internet Entertainment Platform', '3D Imaging In Smartphone', 'Digital Asset Management', 'Augmented And Virtual Reality Contact Lens', 'Online Legal Services', 'Cloud Hosting Service', 'Internet Of Things (Iot) Develop Services', 'Internet Of Everything (Ioe)', 'Voip Processor', 'Digital Map', 'Mobile Ad Server', 'Wifi Modules', 'Cloud Professional Services', 'Iiot Edge Computing', 'Wifi Speakers', 'Smartphone Cover Glass', 'Online Crm Software', 'Social Media Governance', 'Nebs Server', 'Polyster Geogrid', 'Metaverse Technology', 'Cross Platform And Mobile Advertising', 'Digital Music Publishing', 'Managed Wi-Fi', 'Online Telemedicine Services', 'Telehealth Mobile Application', 'Voip Provider Services', 'Social Media Advertising', 'Genomics Software', 'Hdpe Geogrid', 'Automotive Digital Mapping', 'Shared Web Hosting Service', 'Website Accessibility Software', 'Digital Signature', 'Gpu Cloud Computing', 'Digital Wealth Management', 'Online Tvs', 'Digital Video Advertising', 'Digital Billboard', 'Online Team Collaboration Tools', 'Dns Hosting Services', 'Digital Pathology', 'Smartphone Stabilizer']}\n",
            "Json file generated!\n"
          ]
        }
      ]
    },
    {
      "cell_type": "code",
      "source": [
        ""
      ],
      "metadata": {
        "id": "MPJcXpgLeFZw"
      },
      "execution_count": null,
      "outputs": []
    }
  ]
}